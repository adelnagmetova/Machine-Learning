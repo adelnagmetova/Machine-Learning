{
 "cells": [
  {
   "cell_type": "code",
   "execution_count": null,
   "metadata": {
    "collapsed": true
   },
   "outputs": [],
   "source": [
    "#Lab 1 Assem Kussainova 15BD02081"
   ]
  },
  {
   "cell_type": "code",
   "execution_count": 8,
   "metadata": {},
   "outputs": [
    {
     "data": {
      "application/vnd.jupyter.widget-view+json": {
       "model_id": "92395a5512bc492bb704741923ef0642"
      }
     },
     "metadata": {},
     "output_type": "display_data"
    }
   ],
   "source": [
    "from ipywidgets import interact_manual\n",
    "from pyDatalog import pyDatalog\n",
    "pyDatalog.create_terms('X,Y,Z, employee, net_salary, tax_rate, month, total_salary')\n",
    "@interact_manual\n",
    "def get_input(name='Employee ID: ', salary = 15000, month = 12):\n",
    "    employee[name]=salary\n",
    "    tax_rate = employee[X] * 0.15\n",
    "    net_salary[X] = employee[X] - tax_rate\n",
    "    total_salary[X] = net_salary[X] * month"
   ]
  },
  {
   "cell_type": "code",
   "execution_count": 11,
   "metadata": {},
   "outputs": [
    {
     "name": "stdout",
     "output_type": "stream",
     "text": [
      "Total salary for employee in organizatioin:\n",
      "X              | Y      \n",
      "---------------|--------\n",
      "Employee ID: 1 | 7570.1 \n",
      "Employee ID: 2 | 17132.6\n"
     ]
    }
   ],
   "source": [
    "    print(\"Total salary for employee in organizatioin:\")\n",
    "    print((total_salary[X] == Y) & ~(X == \"Employee ID: \") & (Y>0))"
   ]
  },
  {
   "cell_type": "code",
   "execution_count": null,
   "metadata": {
    "collapsed": true
   },
   "outputs": [],
   "source": []
  }
 ],
 "metadata": {
  "kernelspec": {
   "display_name": "Python 3",
   "language": "python",
   "name": "python3"
  },
  "language_info": {
   "codemirror_mode": {
    "name": "ipython",
    "version": 3
   },
   "file_extension": ".py",
   "mimetype": "text/x-python",
   "name": "python",
   "nbconvert_exporter": "python",
   "pygments_lexer": "ipython3",
   "version": "3.6.1"
  }
 },
 "nbformat": 4,
 "nbformat_minor": 2
}
